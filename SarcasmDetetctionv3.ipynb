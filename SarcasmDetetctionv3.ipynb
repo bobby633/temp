{
 "cells": [
  {
   "cell_type": "code",
   "execution_count": 1,
   "id": "0729d2c1",
   "metadata": {},
   "outputs": [
    {
     "name": "stderr",
     "output_type": "stream",
     "text": [
      "2022-02-15 18:14:56.354160: W tensorflow/stream_executor/platform/default/dso_loader.cc:64] Could not load dynamic library 'libcudart.so.11.0'; dlerror: libcudart.so.11.0: cannot open shared object file: No such file or directory\n",
      "2022-02-15 18:14:56.354184: I tensorflow/stream_executor/cuda/cudart_stub.cc:29] Ignore above cudart dlerror if you do not have a GPU set up on your machine.\n"
     ]
    }
   ],
   "source": [
    "import numpy as np \n",
    "import pandas as pd \n",
    "import os\n",
    "import re\n",
    "import matplotlib.pyplot as plt\n",
    "from tensorflow.python.keras.preprocessing.text import Tokenizer\n",
    "from tensorflow.python.keras.preprocessing.sequence import pad_sequences\n",
    "from keras.models import Sequential\n",
    "from keras.layers import Dense, Embedding, GRU, LSTM, Bidirectional\n",
    "from keras.layers.embeddings import Embedding\n",
    "from keras.initializers import Constant\n",
    "from keras.callbacks import ModelCheckpoint\n",
    "from keras.models import load_model\n",
    "from tensorflow import keras\n"
   ]
  },
  {
   "cell_type": "code",
   "execution_count": 2,
   "id": "662e227d",
   "metadata": {},
   "outputs": [],
   "source": [
    "\n",
    "\n",
    "data_1 = pd.read_json(\"Sarcasm_Headlines_Dataset.json\", lines=True)\n",
    "data_2 = pd.read_json(\"Sarcasm_Headlines_Dataset_v2.json\", lines=True)\n",
    "data =  pd.concat([data_1, data_2])\n",
    "#data.head()\n",
    "\n"
   ]
  },
  {
   "cell_type": "code",
   "execution_count": 3,
   "id": "62d5a399",
   "metadata": {},
   "outputs": [],
   "source": [
    "def clean_text(text):\n",
    "    text = text.lower()\n",
    "    \n",
    "    pattern = re.compile('http[s]?://(?:[a-zA-Z]|[0-9]|[$-_@.&+]|[!*\\(\\),]|(?:%[0-9a-fA-F][0-9a-fA-F]))+')\n",
    "    text = pattern.sub('', text)\n",
    "    text = \" \".join(filter(lambda x:x[0]!='@', text.split()))\n",
    "    emoji = re.compile(\"[\"\n",
    "                           u\"\\U0001F600-\\U0001FFFF\"  # emoticons\n",
    "                           u\"\\U0001F300-\\U0001F5FF\"  # symbols & pictographs\n",
    "                           u\"\\U0001F680-\\U0001F6FF\"  # transport & map symbols\n",
    "                           u\"\\U0001F1E0-\\U0001F1FF\"  # flags (iOS)\n",
    "                           u\"\\U00002702-\\U000027B0\"\n",
    "                           u\"\\U000024C2-\\U0001F251\"\n",
    "                           \"]+\", flags=re.UNICODE)\n",
    "    \n",
    "    text = emoji.sub(r'', text)\n",
    "    text = text.lower()\n",
    "    text = re.sub(r\"i'm\", \"i am\", text)\n",
    "    text = re.sub(r\"he's\", \"he is\", text)\n",
    "    text = re.sub(r\"she's\", \"she is\", text)\n",
    "    text = re.sub(r\"that's\", \"that is\", text)        \n",
    "    text = re.sub(r\"what's\", \"what is\", text)\n",
    "    text = re.sub(r\"where's\", \"where is\", text) \n",
    "    text = re.sub(r\"\\'ll\", \" will\", text)  \n",
    "    text = re.sub(r\"\\'ve\", \" have\", text)  \n",
    "    text = re.sub(r\"\\'re\", \" are\", text)\n",
    "    text = re.sub(r\"\\'d\", \" would\", text)\n",
    "    text = re.sub(r\"\\'ve\", \" have\", text)\n",
    "    text = re.sub(r\"won't\", \"will not\", text)\n",
    "    text = re.sub(r\"don't\", \"do not\", text)\n",
    "    text = re.sub(r\"did't\", \"did not\", text)\n",
    "    text = re.sub(r\"can't\", \"can not\", text)\n",
    "    text = re.sub(r\"it's\", \"it is\", text)\n",
    "    text = re.sub(r\"couldn't\", \"could not\", text)\n",
    "    text = re.sub(r\"have't\", \"have not\", text)\n",
    "    text = re.sub(r\"[,.\\\"\\'!@#$%^&*(){}?/;`~:<>+=-]\", \"\", text)\n",
    "    return text"
   ]
  },
  {
   "cell_type": "code",
   "execution_count": 4,
   "id": "410fa5d2",
   "metadata": {},
   "outputs": [],
   "source": [
    "import string\n",
    "from nltk.tokenize import word_tokenize\n",
    "from nltk.corpus import stopwords\n",
    "\n",
    "def CleanTokenize(df):\n",
    "    head_lines = list()\n",
    "    lines = df[\"headline\"].values.tolist()\n",
    "\n",
    "    for line in lines:\n",
    "        line = clean_text(line)\n",
    "        # tokenize the text\n",
    "        tokens = word_tokenize(line)\n",
    "        # remove puntuations\n",
    "        table = str.maketrans('', '', string.punctuation)\n",
    "        stripped = [w.translate(table) for w in tokens]\n",
    "        # remove non alphabetic characters\n",
    "        words = [word for word in stripped if word.isalpha()]\n",
    "        stop_words = set(stopwords.words(\"english\"))\n",
    "        # remove stop words\n",
    "        words = [w for w in words if not w in stop_words]\n",
    "        head_lines.append(words)\n",
    "    return head_lines\n",
    "\n",
    "head_lines = CleanTokenize(data)\n",
    "#head_lines[0:10]"
   ]
  },
  {
   "cell_type": "code",
   "execution_count": 5,
   "id": "0407a839",
   "metadata": {},
   "outputs": [],
   "source": [
    "validation_split = 0.2\n",
    "max_length = 25\n",
    "\n",
    "\n",
    "tokenizer_obj = Tokenizer()\n",
    "tokenizer_obj.fit_on_texts(head_lines)\n",
    "sequences = tokenizer_obj.texts_to_sequences(head_lines)\n",
    "\n",
    "word_index = tokenizer_obj.word_index\n",
    "#print(\"unique tokens - \",len(word_index))\n",
    "vocab_size = len(tokenizer_obj.word_index) + 1\n",
    "#print('vocab size -', vocab_size)\n",
    "\n",
    "lines_pad = pad_sequences(sequences, maxlen=max_length, padding='post')\n",
    "sentiment =  data['is_sarcastic'].values\n",
    "\n",
    "indices = np.arange(lines_pad.shape[0])\n",
    "np.random.shuffle(indices)\n",
    "lines_pad = lines_pad[indices]\n",
    "sentiment = sentiment[indices]\n",
    "\n",
    "num_validation_samples = int(validation_split * lines_pad.shape[0])\n",
    "\n",
    "X_train_pad = lines_pad[:-num_validation_samples]\n",
    "y_train = sentiment[:-num_validation_samples]\n",
    "X_test_pad = lines_pad[-num_validation_samples:]\n",
    "y_test = sentiment[-num_validation_samples:]"
   ]
  },
  {
   "cell_type": "code",
   "execution_count": 6,
   "id": "8183e082",
   "metadata": {},
   "outputs": [
    {
     "name": "stdout",
     "output_type": "stream",
     "text": [
      "Shape of X_train_pad: (44263, 25)\n",
      "Shape of y_train: (44263,)\n",
      "Shape of X_test_pad: (11065, 25)\n",
      "Shape of y_test: (11065,)\n"
     ]
    }
   ],
   "source": [
    "#print('Shape of X_train_pad:', X_train_pad.shape)\n",
    "#print('Shape of y_train:', y_train.shape)\n",
    "\n",
    "#print('Shape of X_test_pad:', X_test_pad.shape)\n",
    "#print('Shape of y_test:', y_test.shape)"
   ]
  },
  {
   "cell_type": "code",
   "execution_count": 6,
   "id": "1c020d60",
   "metadata": {},
   "outputs": [],
   "source": [
    "embeddings_index = {}\n",
    "embedding_dim = 100\n",
    "GLOVE_DIR = \"Home/Project/glove.twitter.27B\"\n",
    "f = open(os.path.join( 'glove.twitter.27B.100d.txt'), encoding = \"utf-8\")\n",
    "for line in f:\n",
    "    values = line.split()\n",
    "    word = values[0]\n",
    "    coefs = np.asarray(values[1:], dtype='float32')\n",
    "    embeddings_index[word] = coefs\n",
    "f.close()\n",
    "\n",
    "#print('Found %s word vectors.' % len(embeddings_index))"
   ]
  },
  {
   "cell_type": "code",
   "execution_count": 8,
   "id": "3379ef51",
   "metadata": {},
   "outputs": [],
   "source": [
    "embedding_matrix = np.zeros((len(word_index) + 1, embedding_dim))\n",
    "c = 0\n",
    "for word, i in word_index.items():\n",
    "    embedding_vector = embeddings_index.get(word)\n",
    "    if embedding_vector is not None:\n",
    "        c+=1\n",
    "        embedding_matrix[i] = embedding_vector\n",
    "#print(c)"
   ]
  },
  {
   "cell_type": "code",
   "execution_count": 9,
   "id": "22c16413",
   "metadata": {},
   "outputs": [],
   "source": [
    "embedding_layer = Embedding(len(word_index) + 1,\n",
    "                            embedding_dim,\n",
    "                            weights=[embedding_matrix],\n",
    "                            input_length=max_length,\n",
    "                            trainable=False)"
   ]
  },
  {
   "cell_type": "code",
   "execution_count": 11,
   "id": "66613a1a",
   "metadata": {},
   "outputs": [
    {
     "name": "stdout",
     "output_type": "stream",
     "text": [
      "Model: \"sequential_1\"\n",
      "_________________________________________________________________\n",
      " Layer (type)                Output Shape              Param #   \n",
      "=================================================================\n",
      " embedding (Embedding)       (None, 25, 100)           2865800   \n",
      "                                                                 \n",
      " lstm_1 (LSTM)               (None, 64)                42240     \n",
      "                                                                 \n",
      " dense_1 (Dense)             (None, 1)                 65        \n",
      "                                                                 \n",
      "=================================================================\n",
      "Total params: 2,908,105\n",
      "Trainable params: 42,305\n",
      "Non-trainable params: 2,865,800\n",
      "_________________________________________________________________\n",
      "None\n"
     ]
    }
   ],
   "source": [
    "model = Sequential()\n",
    "model.add(embedding_layer)\n",
    "model.add(LSTM(64, dropout=0.2, recurrent_dropout=0.25))\n",
    "model.add(Dense(1, activation='sigmoid'))\n",
    "\n",
    "model.compile(loss='binary_crossentropy', optimizer='adam', metrics=['acc'])\n",
    "#model = keras.models.load_model('Sarcastic_Detector/')\n",
    "\n",
    "print(model.summary())\n",
    "\n",
    "#print('Summary of the built model...')\n",
    "#print(model.summary())"
   ]
  },
  {
   "cell_type": "code",
   "execution_count": 12,
   "id": "bc2c5509",
   "metadata": {},
   "outputs": [
    {
     "name": "stdout",
     "output_type": "stream",
     "text": [
      "Epoch 1/25\n"
     ]
    },
    {
     "name": "stderr",
     "output_type": "stream",
     "text": [
      "2022-02-15 18:16:28.303347: W tensorflow/core/framework/cpu_allocator_impl.cc:82] Allocation of 11463200 exceeds 10% of free system memory.\n"
     ]
    },
    {
     "name": "stdout",
     "output_type": "stream",
     "text": [
      "1384/1384 - 25s - loss: 0.5059 - acc: 0.7522 - val_loss: 0.4279 - val_acc: 0.8049 - 25s/epoch - 18ms/step\n",
      "Epoch 2/25\n",
      "1384/1384 - 23s - loss: 0.4212 - acc: 0.8060 - val_loss: 0.3958 - val_acc: 0.8275 - 23s/epoch - 16ms/step\n",
      "Epoch 3/25\n",
      "1384/1384 - 25s - loss: 0.3821 - acc: 0.8286 - val_loss: 0.3852 - val_acc: 0.8268 - 25s/epoch - 18ms/step\n",
      "Epoch 4/25\n",
      "1384/1384 - 23s - loss: 0.3564 - acc: 0.8439 - val_loss: 0.3437 - val_acc: 0.8511 - 23s/epoch - 17ms/step\n",
      "Epoch 5/25\n",
      "1384/1384 - 23s - loss: 0.3349 - acc: 0.8527 - val_loss: 0.3403 - val_acc: 0.8515 - 23s/epoch - 17ms/step\n",
      "Epoch 6/25\n",
      "1384/1384 - 23s - loss: 0.3200 - acc: 0.8600 - val_loss: 0.3234 - val_acc: 0.8635 - 23s/epoch - 17ms/step\n",
      "Epoch 7/25\n",
      "1384/1384 - 23s - loss: 0.2996 - acc: 0.8724 - val_loss: 0.3165 - val_acc: 0.8663 - 23s/epoch - 17ms/step\n",
      "Epoch 8/25\n",
      "1384/1384 - 23s - loss: 0.2859 - acc: 0.8784 - val_loss: 0.3005 - val_acc: 0.8753 - 23s/epoch - 17ms/step\n",
      "Epoch 9/25\n",
      "1384/1384 - 23s - loss: 0.2732 - acc: 0.8847 - val_loss: 0.2916 - val_acc: 0.8756 - 23s/epoch - 17ms/step\n",
      "Epoch 10/25\n",
      "1384/1384 - 23s - loss: 0.2610 - acc: 0.8908 - val_loss: 0.2864 - val_acc: 0.8819 - 23s/epoch - 17ms/step\n",
      "Epoch 11/25\n",
      "1384/1384 - 24s - loss: 0.2501 - acc: 0.8952 - val_loss: 0.2729 - val_acc: 0.8887 - 24s/epoch - 17ms/step\n",
      "Epoch 12/25\n",
      "1384/1384 - 23s - loss: 0.2460 - acc: 0.8987 - val_loss: 0.2661 - val_acc: 0.8894 - 23s/epoch - 17ms/step\n",
      "Epoch 13/25\n",
      "1384/1384 - 23s - loss: 0.2371 - acc: 0.9009 - val_loss: 0.2635 - val_acc: 0.8926 - 23s/epoch - 17ms/step\n",
      "Epoch 14/25\n",
      "1384/1384 - 23s - loss: 0.2331 - acc: 0.9031 - val_loss: 0.2742 - val_acc: 0.8883 - 23s/epoch - 17ms/step\n",
      "Epoch 15/25\n",
      "1384/1384 - 25s - loss: 0.2225 - acc: 0.9090 - val_loss: 0.2556 - val_acc: 0.8994 - 25s/epoch - 18ms/step\n",
      "Epoch 16/25\n",
      "1384/1384 - 23s - loss: 0.2161 - acc: 0.9122 - val_loss: 0.2575 - val_acc: 0.8974 - 23s/epoch - 17ms/step\n",
      "Epoch 17/25\n",
      "1384/1384 - 23s - loss: 0.2145 - acc: 0.9122 - val_loss: 0.2435 - val_acc: 0.9009 - 23s/epoch - 17ms/step\n",
      "Epoch 18/25\n",
      "1384/1384 - 23s - loss: 0.2083 - acc: 0.9149 - val_loss: 0.2387 - val_acc: 0.9070 - 23s/epoch - 17ms/step\n",
      "Epoch 19/25\n",
      "1384/1384 - 24s - loss: 0.2043 - acc: 0.9165 - val_loss: 0.2324 - val_acc: 0.9106 - 24s/epoch - 17ms/step\n",
      "Epoch 20/25\n",
      "1384/1384 - 24s - loss: 0.2026 - acc: 0.9174 - val_loss: 0.2446 - val_acc: 0.9063 - 24s/epoch - 17ms/step\n",
      "Epoch 21/25\n",
      "1384/1384 - 23s - loss: 0.1999 - acc: 0.9182 - val_loss: 0.2261 - val_acc: 0.9139 - 23s/epoch - 17ms/step\n",
      "Epoch 22/25\n",
      "1384/1384 - 23s - loss: 0.1934 - acc: 0.9237 - val_loss: 0.2333 - val_acc: 0.9140 - 23s/epoch - 17ms/step\n",
      "Epoch 23/25\n",
      "1384/1384 - 23s - loss: 0.1878 - acc: 0.9257 - val_loss: 0.2240 - val_acc: 0.9151 - 23s/epoch - 17ms/step\n",
      "Epoch 24/25\n",
      "1384/1384 - 23s - loss: 0.1856 - acc: 0.9257 - val_loss: 0.2274 - val_acc: 0.9144 - 23s/epoch - 17ms/step\n",
      "Epoch 25/25\n",
      "1384/1384 - 24s - loss: 0.1824 - acc: 0.9268 - val_loss: 0.2265 - val_acc: 0.9151 - 24s/epoch - 17ms/step\n"
     ]
    }
   ],
   "source": [
    "history = model.fit(X_train_pad, y_train, batch_size=32, epochs=25, validation_data=(X_test_pad,y_test)\n",
    "                   ,verbose=2)"
   ]
  },
  {
   "cell_type": "code",
   "execution_count": 13,
   "id": "7b03b8c4",
   "metadata": {},
   "outputs": [
    {
     "name": "stderr",
     "output_type": "stream",
     "text": [
      "2022-02-15 18:37:06.893866: W tensorflow/python/util/util.cc:368] Sets are not currently considered sequences, but this may change in the future, so consider avoiding using them.\n"
     ]
    },
    {
     "name": "stdout",
     "output_type": "stream",
     "text": [
      "INFO:tensorflow:Assets written to: Sarcastic_Detector/assets\n"
     ]
    },
    {
     "name": "stderr",
     "output_type": "stream",
     "text": [
      "2022-02-15 18:37:08.363797: W tensorflow/core/framework/cpu_allocator_impl.cc:82] Allocation of 11463200 exceeds 10% of free system memory.\n",
      "WARNING:absl:<keras.layers.recurrent.LSTMCell object at 0x7fb604264220> has the same name 'LSTMCell' as a built-in Keras object. Consider renaming <class 'keras.layers.recurrent.LSTMCell'> to avoid naming conflicts when loading with `tf.keras.models.load_model`. If renaming is not possible, pass the object in the `custom_objects` parameter of the load function.\n"
     ]
    }
   ],
   "source": [
    "\n",
    "model.save('Sarcastic_Detector/')"
   ]
  },
  {
   "cell_type": "code",
   "execution_count": 14,
   "id": "35a29618",
   "metadata": {},
   "outputs": [
    {
     "data": {
      "image/png": "[encoded data removed]",
      "text/plain": [
       "<Figure size 432x288 with 1 Axes>"
      ]
     },
     "metadata": {
      "needs_background": "light"
     },
     "output_type": "display_data"
    },
    {
     "data": {
      "image/png": "[encoded data removed]",
      "text/plain": [
       "<Figure size 432x288 with 1 Axes>"
      ]
     },
     "metadata": {
      "needs_background": "light"
     },
     "output_type": "display_data"
    }
   ],
   "source": [
    "#Plot results\n",
    "acc = history.history['acc']\n",
    "val_acc = history.history['val_acc']\n",
    "loss = history.history['loss']\n",
    "val_loss = history.history['val_loss']\n",
    "\n",
    "epochs = range(1, len(acc)+1)\n",
    "\n",
    "plt.plot(epochs, acc, 'g', label='Training accuracy')\n",
    "plt.plot(epochs, val_acc, 'r', label='Validation accuracy')\n",
    "plt.title('Training and validation accuracy')\n",
    "plt.legend()\n",
    "\n",
    "plt.figure()\n",
    "\n",
    "plt.plot(epochs, loss, 'g', label='Training loss')\n",
    "plt.plot(epochs, val_loss, 'r', label='Validation loss')\n",
    "plt.title('Training and validation loss')\n",
    "plt.legend()\n",
    "\n",
    "plt.show()"
   ]
  },
  {
   "cell_type": "code",
   "execution_count": 64,
   "id": "9e59a1a5",
   "metadata": {},
   "outputs": [],
   "source": [
    "class Sarcasm:\n",
    "    def predict_sarcasm(s):\n",
    "        x_final = pd.DataFrame({\"headline\":[s]})\n",
    "        test_lines = CleanTokenize(x_final)\n",
    "        test_sequences = tokenizer_obj.texts_to_sequences(test_lines)\n",
    "        \n",
    "        test_review_pad = pad_sequences(test_sequences, maxlen=max_length, padding='post')\n",
    "        pred = model.predict(test_review_pad)\n",
    "        pred*=100\n",
    "        if pred[0][0]>=50: return \"It's a sarcasm!\"  \n",
    "        else: return \"It's not a sarcasm.\"\n",
    "    "
   ]
  },
  {
   "cell_type": "code",
   "execution_count": 68,
   "id": "02593a44",
   "metadata": {},
   "outputs": [
    {
     "data": {
      "text/plain": [
       "\"It's a sarcasm!\""
      ]
     },
     "execution_count": 68,
     "metadata": {},
     "output_type": "execute_result"
    }
   ],
   "source": [
    "Sarcasm.predict_sarcasm(\"i was sad. he told me to smile. it worked im not sad anymore\")"
   ]
  }
 ],
 "metadata": {
  "kernelspec": {
   "display_name": "Python 3 (ipykernel)",
   "language": "python",
   "name": "python3"
  },
  "language_info": {
   "codemirror_mode": {
    "name": "ipython",
    "version": 3
   },
   "file_extension": ".py",
   "mimetype": "text/x-python",
   "name": "python",
   "nbconvert_exporter": "python",
   "pygments_lexer": "ipython3",
   "version": "3.8.10"
  }
 },
 "nbformat": 4,
 "nbformat_minor": 5
}
